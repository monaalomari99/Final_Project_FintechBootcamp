{
 "cells": [
  {
   "cell_type": "code",
   "execution_count": 13,
   "id": "1a0f7076-6ec1-4774-8ca8-1e00a7cc410b",
   "metadata": {},
   "outputs": [],
   "source": [
    "#Dash Framework - stock price visualization demo\n",
    "import dash\n",
    "import dash_core_components as dcc\n",
    "import dash_html_components as html\n",
    "from dash.dependencies import Input, Output\n",
    "from pandas_datareader import data as pdr"
   ]
  },
  {
   "cell_type": "code",
   "execution_count": 14,
   "id": "e74362f5-41fd-43e0-bbad-407648ae7810",
   "metadata": {},
   "outputs": [],
   "source": [
    "#First the layout\n",
    "app = dash.Dash()\n",
    "app.title = \"Stock Visualization\"\n",
    "app.layout = html.Div(children=[\n",
    "    html.H1('Stock Visualization Dashboard'),\n",
    "    html.H4('Please enter the stock name'),\n",
    "    dcc.Input(id='input', value='', type='text'),\n",
    "    html.Div(id='output-graph')\n",
    "\n",
    "])"
   ]
  },
  {
   "cell_type": "code",
   "execution_count": 15,
   "id": "aeaf1f25-8b64-4031-96f5-d45a6d0a8553",
   "metadata": {},
   "outputs": [],
   "source": [
    "#Second the interaction with the user\n",
    "@app.callback(\n",
    "    Output(component_id='my-div', component_property='children'),\n",
    "    [Input(component_id='my-id', component_property='value')]\n",
    ")\n",
    "def update_value(input_date):\n",
    "    end:datetime.datetime(2011-1-1)\n",
    "    end= datetime.datetime.now()\n",
    "    df = pdr.DataReader(input_date,'yahoo',start,end)\n",
    "    return dcc.Graph(id='demo',figure={'data': [\n",
    "        {'x':df.index,'y':df.Close, 'type':\n",
    "         'line','name':input_data},],'layout':{'title':\n",
    "          input_data}})"
   ]
  },
  {
   "cell_type": "code",
   "execution_count": 16,
   "id": "9b2bbee2-74b2-429e-8b61-237a6cbd78a9",
   "metadata": {},
   "outputs": [],
   "source": [
    "#Run the server\n",
    "if __name__=='__Stock_Price_Prodiction_App__':\n",
    "    app.run_server(debug=True)"
   ]
  },
  {
   "cell_type": "code",
   "execution_count": null,
   "id": "c82a0156-cfad-490f-b477-d2dd96be7462",
   "metadata": {},
   "outputs": [],
   "source": []
  },
  {
   "cell_type": "code",
   "execution_count": null,
   "id": "518c3253-c549-40d5-b1a5-5dac35456542",
   "metadata": {},
   "outputs": [],
   "source": []
  }
 ],
 "metadata": {
  "kernelspec": {
   "display_name": "Python 3 (ipykernel)",
   "language": "python",
   "name": "python3"
  },
  "language_info": {
   "codemirror_mode": {
    "name": "ipython",
    "version": 3
   },
   "file_extension": ".py",
   "mimetype": "text/x-python",
   "name": "python",
   "nbconvert_exporter": "python",
   "pygments_lexer": "ipython3",
   "version": "3.8.12"
  }
 },
 "nbformat": 4,
 "nbformat_minor": 5
}
