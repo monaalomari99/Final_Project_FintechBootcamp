{
 "cells": [
  {
   "cell_type": "code",
   "execution_count": null,
   "id": "1a0f7076-6ec1-4774-8ca8-1e00a7cc410b",
   "metadata": {},
   "outputs": [],
   "source": [
    "#Dash Framework - stock price visualization demo\n",
    "import dash\n",
    "import dash_core_components as dcc\n",
    "import dash_html_components as html\n",
    "from dash.dependencies import Input, Output\n",
    "from pandas_datareader import data as pdr"
   ]
  },
  {
   "cell_type": "code",
   "execution_count": null,
   "id": "e74362f5-41fd-43e0-bbad-407648ae7810",
   "metadata": {},
   "outputs": [],
   "source": [
    "data=pdr.get_data_yahoo('AAPL','2011-01-01','2021-12-31')\n",
    "app = dash.Dash(__name__)\n",
    "app.title = \"Stock Price Predictions App\"\n",
    "\n",
    "#First the layout\n",
    "app.layout =html.Div(children=[       \n",
    "           html.H1(\"Stock Predictions\", style={'textAlign': 'center','color': 'black'}),          \n",
    "####################################################        \n",
    "          html.Div('''Stock Price Prediction using machine learning ''',style={'textAlign': 'center','color': 'black'}),\n",
    "#####################################################\n",
    "         html.Label('Select the Stock:'),\n",
    "         dcc.Dropdown(id='select_stock',\n",
    "         options=[\n",
    "            {'label': 'Apple', 'value': 'AAPL'},\n",
    "            {'label': 'Bitcoin', 'value': 'BTC_USD'},],\n",
    "             \n",
    "        style={'width':'40%'},     \n",
    "        value='AAPL'\n",
    "    ),\n",
    "###################################################\n",
    "        html.Div(id='output_container', children=[]),\n",
    "        html.Br(),\n",
    "####################################################\n",
    "        dcc.Graph(id='my_stock_fig', figure={})\n",
    "####################################################        \n",
    "       \n",
    "    ]\n",
    ")"
   ]
  },
  {
   "cell_type": "code",
   "execution_count": 1,
   "id": "21de984f-505c-466b-9dd9-634969932661",
   "metadata": {},
   "outputs": [
    {
     "ename": "NameError",
     "evalue": "name 'app' is not defined",
     "output_type": "error",
     "traceback": [
      "\u001b[1;31m---------------------------------------------------------------------------\u001b[0m",
      "\u001b[1;31mNameError\u001b[0m                                 Traceback (most recent call last)",
      "\u001b[1;32m~\\AppData\\Local\\Temp/ipykernel_8316/745813070.py\u001b[0m in \u001b[0;36m<module>\u001b[1;34m\u001b[0m\n\u001b[1;32m----> 1\u001b[1;33m @app.callback(Output(component_id='output_container', component_property='children'),\n\u001b[0m\u001b[0;32m      2\u001b[0m             \u001b[0mOutput\u001b[0m\u001b[1;33m(\u001b[0m\u001b[0mcomponent_id\u001b[0m\u001b[1;33m=\u001b[0m\u001b[1;34m'my_stock_fig'\u001b[0m\u001b[1;33m,\u001b[0m \u001b[0mcomponent_property\u001b[0m\u001b[1;33m=\u001b[0m\u001b[1;34m'figure'\u001b[0m\u001b[1;33m)\u001b[0m\u001b[1;33m,\u001b[0m\u001b[1;33m\u001b[0m\u001b[1;33m\u001b[0m\u001b[0m\n\u001b[0;32m      3\u001b[0m              \u001b[0mInput\u001b[0m\u001b[1;33m(\u001b[0m\u001b[0mcomponent_id\u001b[0m\u001b[1;33m=\u001b[0m\u001b[1;34m'select_stock'\u001b[0m\u001b[1;33m,\u001b[0m \u001b[0mcomponent_property\u001b[0m\u001b[1;33m=\u001b[0m\u001b[1;34m'value'\u001b[0m\u001b[1;33m)\u001b[0m\u001b[1;33m\u001b[0m\u001b[1;33m\u001b[0m\u001b[0m\n\u001b[0;32m      4\u001b[0m )\n\u001b[0;32m      5\u001b[0m \u001b[1;32mdef\u001b[0m \u001b[0mupdate_output_div\u001b[0m\u001b[1;33m(\u001b[0m\u001b[0minput_value\u001b[0m\u001b[1;33m)\u001b[0m\u001b[1;33m:\u001b[0m\u001b[1;33m\u001b[0m\u001b[1;33m\u001b[0m\u001b[0m\n",
      "\u001b[1;31mNameError\u001b[0m: name 'app' is not defined"
     ]
    }
   ],
   "source": [
    "@app.callback(Output(component_id='output_container', component_property='children'),\n",
    "            Output(component_id='my_stock_fig', component_property='figure'),\n",
    "             Input(component_id='select_stock', component_property='value') \n",
    ")\n",
    "def update_output_div(input_value):\n",
    "    data=pdr.get_data_yahoo(input_value,'2011-01-01','2021-12-31')\n",
    "    dropdown = {\"AAPL\": \"Apple\",\"BTC\": \"Bitcoin\",}\n",
    "    return fig"
   ]
  },
  {
   "cell_type": "code",
   "execution_count": null,
   "id": "9b2bbee2-74b2-429e-8b61-237a6cbd78a9",
   "metadata": {},
   "outputs": [],
   "source": [
    "#Run the server\n",
    "if __name__=='__main__':\n",
    "    app.run_server(debug=False)"
   ]
  },
  {
   "cell_type": "code",
   "execution_count": null,
   "id": "c82a0156-cfad-490f-b477-d2dd96be7462",
   "metadata": {},
   "outputs": [],
   "source": [
    "html.Div(style={\n",
    "          'background-image': 'url(\"background1.png\")',\n",
    "          'background-repeat': 'no-repeat',\n",
    "          'background-position': 'center-top',\n",
    "          'background-size': '150px 100px'\n",
    "     }),\n",
    " "
   ]
  },
  {
   "cell_type": "code",
   "execution_count": null,
   "id": "518c3253-c549-40d5-b1a5-5dac35456542",
   "metadata": {},
   "outputs": [],
   "source": [
    " \"data\": [\n",
    "                    {\n",
    "                        \"x\": data.index,\n",
    "                        \"y\": data[\"Close\"],\n",
    "                        \"type\": \"lines\",\n",
    "                    },\n",
    "                ],\n",
    "                \"layout\": {\"title\": \"Close Price of Apple\"},"
   ]
  }
 ],
 "metadata": {
  "kernelspec": {
   "display_name": "Python 3 (ipykernel)",
   "language": "python",
   "name": "python3"
  },
  "language_info": {
   "codemirror_mode": {
    "name": "ipython",
    "version": 3
   },
   "file_extension": ".py",
   "mimetype": "text/x-python",
   "name": "python",
   "nbconvert_exporter": "python",
   "pygments_lexer": "ipython3",
   "version": "3.8.12"
  }
 },
 "nbformat": 4,
 "nbformat_minor": 5
}
