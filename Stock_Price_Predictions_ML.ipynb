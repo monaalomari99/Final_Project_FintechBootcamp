{
 "cells": [
  {
   "cell_type": "code",
   "execution_count": null,
   "metadata": {},
   "outputs": [],
   "source": [
    "#This program uses an artificial recurrent neural network called Long Short Term Memory(LSTM)\n",
    "#to predict the closing stock price of a corporation(Apple Inc.).\n",
    "#import the libraries\n",
    "import pandas as pd\n",
    "import numpy as np\n",
    "import datetime as dt\n",
    "import yfinance as yf\n",
    "from pandas_datareader import data as pdr\n",
    "yf.pdr_override()\n",
    "from sklearn.preprocessing import MinMaxScaler\n",
    "from sklearn import metrics\n",
    "from keras.models import Sequential \n",
    "from keras.layers import LSTM,Dense\n",
    "import matplotlib.pyplot as plt\n",
    "#plt.style.use('fivethirtyeight')\n"
   ]
  },
  {
   "cell_type": "code",
   "execution_count": null,
   "metadata": {},
   "outputs": [],
   "source": [
    "#Get the stock quote\n",
    "df=pdr.get_data_yahoo('AAPL','2011-01-01','2021-12-31')"
   ]
  },
  {
   "cell_type": "code",
   "execution_count": null,
   "metadata": {},
   "outputs": [],
   "source": [
    "#Show the Data\n",
    "df"
   ]
  },
  {
   "cell_type": "code",
   "execution_count": null,
   "metadata": {},
   "outputs": [],
   "source": [
    "#Get the number of rows and columns in the data set\n",
    "df.shape"
   ]
  },
  {
   "cell_type": "code",
   "execution_count": null,
   "metadata": {},
   "outputs": [],
   "source": [
    "#Visualize the closing price history\n",
    "plt.figure(figsize=(16,8))\n",
    "plt.title('Close Price History')\n",
    "plt.plot(df['Close'])\n",
    "plt.xlabel('Date',fontsize=18)\n",
    "plt.ylabel('Close Price USD ($)',fontsize=18)\n",
    "plt.show()"
   ]
  },
  {
   "cell_type": "code",
   "execution_count": null,
   "metadata": {},
   "outputs": [],
   "source": [
    "#Create a new dataframe with only the Close column\n",
    "data = df[['Close']]\n",
    "#Convert dataFrame to a numpy array\n",
    "dataset = data.values\n",
    "#Get the number of rows to train the model on \n",
    "training_data_len =int(0.8*len(dataset))\n",
    "training_data_len"
   ]
  },
  {
   "cell_type": "code",
   "execution_count": null,
   "metadata": {},
   "outputs": [],
   "source": [
    "#Scale the data(transform the data between 0 and 1)\n",
    "scaler=MinMaxScaler(feature_range=(0,1))\n",
    "scaled_data =scaler.fit_transform(dataset)\n",
    "scaled_data"
   ]
  },
  {
   "cell_type": "code",
   "execution_count": null,
   "metadata": {},
   "outputs": [],
   "source": [
    "#Create the training data set \n",
    "#Create the scaled training data set\n",
    "train_data=scaled_data[0:training_data_len,:]\n",
    "#train_data\n",
    "#Split the data into x_train and y_train data set\n",
    "x_train=[]\n",
    "y_train=[]\n",
    "\n",
    "\n",
    "\n",
    "for i in range(60,len(train_data)):\n",
    "    x_train.append(train_data[i-60:i,0])\n",
    "    y_train.append(train_data[i,0])\n",
    "    if i <=60:\n",
    "        print(x_train)\n",
    "        print(y_train)\n",
    "        print()"
   ]
  },
  {
   "cell_type": "code",
   "execution_count": null,
   "metadata": {},
   "outputs": [],
   "source": [
    "#Convert the x_train and y_train to numpy arrays\n",
    "x_train, y_train=np.array(x_train),np.array(y_train)"
   ]
  },
  {
   "cell_type": "code",
   "execution_count": null,
   "metadata": {},
   "outputs": [],
   "source": [
    "#Reshape the data(shape become 3 dimensional)\n",
    "x_train=np.reshape(x_train,(x_train.shape[0],x_train.shape[1],1))\n",
    "x_train.shape"
   ]
  },
  {
   "cell_type": "code",
   "execution_count": null,
   "metadata": {},
   "outputs": [],
   "source": [
    "#Bulid the LSTM model\n",
    "model=Sequential()\n",
    "#add the layer to the model\n",
    "model.add(LSTM(50,return_sequences=True,input_shape=(x_train.shape[1],1)))\n",
    "model.add(LSTM(50,return_sequences=False))\n",
    "model.add(Dense(25))\n",
    "model.add(Dense(1))"
   ]
  },
  {
   "cell_type": "code",
   "execution_count": null,
   "metadata": {},
   "outputs": [],
   "source": [
    "#Compile the model\n",
    "model.compile(optimizer='adam',loss='mean_squared_error')"
   ]
  },
  {
   "cell_type": "code",
   "execution_count": null,
   "metadata": {},
   "outputs": [],
   "source": [
    "#Train the model\n",
    "model.fit(x_train,y_train,batch_size=1,epochs=1)"
   ]
  },
  {
   "cell_type": "code",
   "execution_count": null,
   "metadata": {},
   "outputs": [],
   "source": [
    "#Create the testing data set\n",
    "#Create a new array containing scaled values from index 2155 to 2769\n",
    "test_data=scaled_data[training_data_len - 60: , :]\n",
    "#Create the data sets x_test and y_test\n",
    "x_test=[]\n",
    "y_test=dataset[training_data_len:, :]\n",
    "\n",
    "for i in range(60,len(test_data)):\n",
    "    x_test.append(test_data[i-60:i,0])\n"
   ]
  },
  {
   "cell_type": "code",
   "execution_count": null,
   "metadata": {},
   "outputs": [],
   "source": [
    "#Convert the data to a numpy array\n",
    "x_test = np.array(x_test)"
   ]
  },
  {
   "cell_type": "code",
   "execution_count": null,
   "metadata": {},
   "outputs": [],
   "source": [
    "#Reshape the data(shape become 3 dimensional)\n",
    "x_test=np.reshape(x_test,(x_test.shape[0],x_test.shape[1],1))"
   ]
  },
  {
   "cell_type": "code",
   "execution_count": null,
   "metadata": {},
   "outputs": [],
   "source": [
    "#Get the models predicted price values\n",
    "predictions =model.predict(x_test)\n",
    "predictions =scaler.inverse_transform(predictions)"
   ]
  },
  {
   "cell_type": "code",
   "execution_count": null,
   "metadata": {},
   "outputs": [],
   "source": [
    "#Get the root mean squared error(RMSE)\n",
    "rese= np.sqrt(np.mean(predictions - y_test)**2)\n",
    "rese"
   ]
  },
  {
   "cell_type": "code",
   "execution_count": null,
   "metadata": {},
   "outputs": [],
   "source": [
    "#Plot the data\n",
    "train=data[:training_data_len]\n",
    "valid=data[training_data_len:]\n",
    "valid['predictions'] =predictions\n",
    "#Visualize the data\n",
    "plt.figure(figsize=(16,8))\n",
    "plt.title('Model')\n",
    "plt.xlabel('Date',fontsize=18)\n",
    "plt.ylabel('Close Price USD($)',fontsize=18)\n",
    "plt.plot(train['Close'])\n",
    "plt.plot(valid[['Close','predictions']])\n",
    "plt.legend(['Train','Val','predictions'],loc='lower right')\n",
    "plt.show()"
   ]
  },
  {
   "cell_type": "code",
   "execution_count": null,
   "metadata": {},
   "outputs": [],
   "source": [
    "#Show the valid and predicted prices\n",
    "valid"
   ]
  },
  {
   "cell_type": "code",
   "execution_count": null,
   "metadata": {},
   "outputs": [],
   "source": [
    "model.save(\"Saved_LSTM_Model\")"
   ]
  },
  {
   "cell_type": "code",
   "execution_count": null,
   "metadata": {},
   "outputs": [],
   "source": [
    "#predicted the close price for this date 2022-01-03\n",
    "#Get the qoute\n",
    "apple_quote=pdr.get_data_yahoo('AAPL','2011-01-01','2022-01-02')\n",
    "#Create a new dataframe\n",
    "new_df=apple_quote[['Close']]\n",
    "#Get last 60 day closing price values and convert the dataframe to an array\n",
    "last_60_days= new_df[-60:].values\n",
    "#Scale the data to be values between 0 and 1\n",
    "last_60_days_scaled=scaler.fit_transform(last_60_days)\n",
    "#Create empty list\n",
    "X_test=[]\n",
    "#Append past 60 days\n",
    "X_test.append(last_60_days_scaled)\n",
    "#Convert the X_test to numpy array\n",
    "X_test=np.array(X_test)\n",
    "#Reshape the data(shape become 3 dimensional)\n",
    "X_test=np.reshape(X_test,(X_test.shape[0],X_test.shape[1],1))\n",
    "#Get the predicted scaled price\n",
    "pred_price =model.predict(X_test)\n",
    "#undo the scaling\n",
    "pred_price =scaler.inverse_transform(pred_price)\n",
    "print(pred_price)"
   ]
  },
  {
   "cell_type": "code",
   "execution_count": null,
   "metadata": {},
   "outputs": [],
   "source": [
    "#Get the real price for this date 2022-01-03\n",
    "apple_quote2=pdr.get_data_yahoo('AAPL','2022-01-04','2022-01-04')\n",
    "print(apple_quote2['Close'])"
   ]
  },
  {
   "cell_type": "code",
   "execution_count": null,
   "metadata": {},
   "outputs": [],
   "source": [
    "#predicted the close price for this date 2022-01-04\n",
    "#Get the qoute\n",
    "apple_quote=pdr.get_data_yahoo('AAPL','2011-01-01','2022-01-03')\n",
    "#Create a new dataframe\n",
    "new_df=apple_quote[['Close']]\n",
    "#Get last 60 day closing price values and convert the dataframe to an array\n",
    "last_60_days= new_df[-60:].values\n",
    "#Scale the data to be values between 0 and 1\n",
    "last_60_days_scaled=scaler.fit_transform(last_60_days)\n",
    "#Create empty list\n",
    "X_test=[]\n",
    "#Append past 60 days\n",
    "X_test.append(last_60_days_scaled)\n",
    "#Convert the X_test to numpy array\n",
    "X_test=np.array(X_test)\n",
    "#Reshape the data(shape become 3 dimensional)\n",
    "X_test=np.reshape(X_test,(X_test.shape[0],X_test.shape[1],1))\n",
    "#Get the predicted scaled price\n",
    "pred_price =model.predict(X_test)\n",
    "#undo the scaling\n",
    "pred_price =scaler.inverse_transform(pred_price)\n",
    "print(pred_price)"
   ]
  },
  {
   "cell_type": "code",
   "execution_count": null,
   "metadata": {},
   "outputs": [],
   "source": [
    "#Get the real price for this date 2022-01-04\n",
    "apple_quote2=pdr.get_data_yahoo('AAPL','2022-01-05','2022-01-05')\n",
    "print(apple_quote2['Close'])"
   ]
  },
  {
   "cell_type": "code",
   "execution_count": null,
   "metadata": {},
   "outputs": [],
   "source": [
    "#BTC\n",
    "#predicted the close price for this date 2022-01-04\n",
    "#Get the qoute\n",
    "BTC_quote=pdr.get_data_yahoo('BTC-USD','2011-01-01','2022-01-03')\n",
    "#Create a new dataframe\n",
    "new_df=BTC_quote[['Close']]\n",
    "#Get last 60 day closing price values and convert the dataframe to an array\n",
    "last_60_days= new_df[-60:].values\n",
    "#Scale the data to be values between 0 and 1\n",
    "last_60_days_scaled=scaler.fit_transform(last_60_days)\n",
    "#Create empty list\n",
    "X_test=[]\n",
    "#Append past 60 days\n",
    "X_test.append(last_60_days_scaled)\n",
    "#Convert the X_test to numpy array\n",
    "X_test=np.array(X_test)\n",
    "#Reshape the data(shape become 3 dimensional)\n",
    "X_test=np.reshape(X_test,(X_test.shape[0],X_test.shape[1],1))\n",
    "#Get the predicted scaled price\n",
    "pred_price =model.predict(X_test)\n",
    "#undo the scaling\n",
    "pred_price =scaler.inverse_transform(pred_price)\n",
    "print(pred_price)"
   ]
  },
  {
   "cell_type": "code",
   "execution_count": null,
   "metadata": {},
   "outputs": [],
   "source": [
    "#Get the real price for this date 2022-01-04\n",
    "BTC_quote2=pdr.get_data_yahoo('BTC-USD','2022-01-05','2022-01-05')\n",
    "print(BTC_quote2['Close'])"
   ]
  },
  {
   "cell_type": "code",
   "execution_count": null,
   "metadata": {},
   "outputs": [],
   "source": [
    "#Dash Framework - stock price visualization demo\n",
    "import dash\n",
    "import dash_core_components as dcc\n",
    "import dash_html_components as html\n",
    "from dash.dependencies import Input, Output\n",
    "from pandas_datareader import data as pdr"
   ]
  },
  {
   "cell_type": "code",
   "execution_count": null,
   "metadata": {},
   "outputs": [],
   "source": [
    "import plotly.graph_objs as go\n",
    "app = dash.Dash(__name__)\n",
    "app.title = \"Stock Price Predictions App\"\n",
    "\n",
    "#First the layout\n",
    "app.layout = html.Div([\n",
    "   \n",
    "    html.H1(\"Stock Predictions\", style={\"textAlign\": \"center\"}),\n",
    "    html.H4(\"Stock Price Prediction using machine learning\", style={\"textAlign\": \"center\"}),\n",
    "    \n",
    "    html.Label('Select the Stock:'),\n",
    "         dcc.Dropdown(id='select_stock',\n",
    "         options=[\n",
    "            {'label': 'Apple', 'value': 'AAPL'},\n",
    "            {'label': 'Bitcoin', 'value': 'BTC_USD'},],\n",
    "             \n",
    "        style={'width':'40%'},     \n",
    "        value='AAPL'\n",
    "    ),\n",
    "\n",
    "            html.Div([\n",
    "                html.H2(\"Actual closing price\",style={\"textAlign\": \"center\"}),\n",
    "                dcc.Graph(\n",
    "                    id=\"Actual Data\",\n",
    "                    figure={\n",
    "                        \"data\":[\n",
    "                                go.Scatter(\n",
    "                                x=df.index,\n",
    "                                y=df[\"Close\"],\n",
    "                                mode='markers'\n",
    "                           )\n",
    "\n",
    "                       ],\n",
    "                       \"layout\":go.Layout(\n",
    "                            title='scatter plot',\n",
    "                            xaxis={'title':'Date'},\n",
    "                            yaxis={'title':'Closing Rate'}\n",
    "                       )\n",
    "                    }\n",
    "\n",
    "                ),\n",
    "                html.H2(\"LSTM Predicted closing price\",style={\"textAlign\": \"center\"}),\n",
    "                dcc.Graph(\n",
    "                    id=\"Predicted Data\",\n",
    "                    figure={\n",
    "                        \"data\":[\n",
    "                                go.Scatter(\n",
    "                                x=valid.index,\n",
    "                                y=valid[\"predictions\"],\n",
    "                                mode='markers'\n",
    "                           )\n",
    "\n",
    "                        ],\n",
    "                        \"layout\":go.Layout(\n",
    "                            title='scatter plot',\n",
    "                            xaxis={'title':'Date'},\n",
    "                            yaxis={'title':'Closing Rate'}\n",
    "                     )\n",
    "                    })\n",
    "    ])\n",
    "#])\n",
    "# ])\n",
    "    \n",
    "])"
   ]
  },
  {
   "cell_type": "code",
   "execution_count": null,
   "metadata": {
    "tags": []
   },
   "outputs": [],
   "source": [
    "if __name__ == \"__main__\":\n",
    "    app.run_server(debug=False)"
   ]
  },
  {
   "cell_type": "code",
   "execution_count": null,
   "metadata": {},
   "outputs": [],
   "source": []
  }
 ],
 "metadata": {
  "interpreter": {
   "hash": "b1295f837331a4625ea8867703801c7b4b917abfed4741b6633e37751affeda7"
  },
  "kernelspec": {
   "display_name": "Python 3 (ipykernel)",
   "language": "python",
   "name": "python3"
  },
  "language_info": {
   "codemirror_mode": {
    "name": "ipython",
    "version": 3
   },
   "file_extension": ".py",
   "mimetype": "text/x-python",
   "name": "python",
   "nbconvert_exporter": "python",
   "pygments_lexer": "ipython3",
   "version": "3.8.12"
  }
 },
 "nbformat": 4,
 "nbformat_minor": 4
}
